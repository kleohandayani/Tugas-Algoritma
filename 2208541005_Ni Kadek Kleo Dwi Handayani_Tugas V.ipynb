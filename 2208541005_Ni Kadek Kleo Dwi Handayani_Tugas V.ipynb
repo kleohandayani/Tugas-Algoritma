{
  "nbformat": 4,
  "nbformat_minor": 0,
  "metadata": {
    "colab": {
      "provenance": []
    },
    "kernelspec": {
      "name": "python3",
      "display_name": "Python 3"
    },
    "language_info": {
      "name": "python"
    }
  },
  "cells": [
    {
      "cell_type": "markdown",
      "source": [
        "# **5.16 *List* 2 Dimensi**"
      ],
      "metadata": {
        "id": "7tadagYyqOPJ"
      }
    },
    {
      "cell_type": "code",
      "source": [
        "#Misal kita buat list matrik\n",
        "\n",
        "matrik = [\n",
        "    [1,2,3,4],\n",
        "    [5,6,7,8],\n",
        "    [9,10,11,12],\n",
        "    [13,14,15,16]\n",
        "]\n",
        "print(matrik)\n",
        "\n",
        "#Dengan perintah print akan mencetak list matrik yang kita buat"
      ],
      "metadata": {
        "colab": {
          "base_uri": "https://localhost:8080/"
        },
        "id": "G5Mc0DrVqbrm",
        "outputId": "b422f97e-ffa6-48cd-dabc-040f33c4286c"
      },
      "execution_count": null,
      "outputs": [
        {
          "output_type": "stream",
          "name": "stdout",
          "text": [
            "[[1, 2, 3, 4], [5, 6, 7, 8], [9, 10, 11, 12], [13, 14, 15, 16]]\n"
          ]
        }
      ]
    },
    {
      "cell_type": "code",
      "source": [
        "matrik [0]\n",
        "\n",
        "#Indeks 0 merupakan indeks pertama pada list, maka outputnya adalah [1,2,3,4]"
      ],
      "metadata": {
        "colab": {
          "base_uri": "https://localhost:8080/"
        },
        "id": "Q_bFWI4xrJ72",
        "outputId": "7e2196ab-8f71-457f-dce6-63b39968f5fc"
      },
      "execution_count": null,
      "outputs": [
        {
          "output_type": "execute_result",
          "data": {
            "text/plain": [
              "[1, 2, 3, 4]"
            ]
          },
          "metadata": {},
          "execution_count": 4
        }
      ]
    },
    {
      "cell_type": "code",
      "source": [
        "matrik [2][0]\n",
        "\n",
        "#Perintah ini untuk menghasilkan output nilai pada baris ke-2 dan pada kolom ke-0"
      ],
      "metadata": {
        "colab": {
          "base_uri": "https://localhost:8080/"
        },
        "id": "zKAUxQJGrQXS",
        "outputId": "2f9fc1bd-6786-4248-94ee-cfe4bd446df9"
      },
      "execution_count": null,
      "outputs": [
        {
          "output_type": "execute_result",
          "data": {
            "text/plain": [
              "9"
            ]
          },
          "metadata": {},
          "execution_count": 5
        }
      ]
    },
    {
      "cell_type": "code",
      "source": [
        "matrik [2][0]=50\n",
        "print(matrik[2][0])\n",
        "\n",
        "#Perintah ini akan mengganti nilai yang asli dengan nilai yang baru kita tentukan"
      ],
      "metadata": {
        "colab": {
          "base_uri": "https://localhost:8080/"
        },
        "id": "Hc6EUItJrVQe",
        "outputId": "a125472c-2ba0-48fb-afe6-7f5f917bcdca"
      },
      "execution_count": null,
      "outputs": [
        {
          "output_type": "stream",
          "name": "stdout",
          "text": [
            "50\n"
          ]
        }
      ]
    },
    {
      "cell_type": "code",
      "source": [
        "matrik\n",
        "\n",
        "#Dengan perintah ini saja akan menghasilkan output seluruh list matrik\n",
        "#Dengan catatan akan ada nilai yang berubah karena sudah kita ganti"
      ],
      "metadata": {
        "colab": {
          "base_uri": "https://localhost:8080/"
        },
        "id": "yOkOlfFBrsjQ",
        "outputId": "fd0bf3a3-dbc8-4065-cc4a-d583882aa070"
      },
      "execution_count": null,
      "outputs": [
        {
          "output_type": "execute_result",
          "data": {
            "text/plain": [
              "[[1, 2, 3, 4], [5, 6, 7, 8], [50, 10, 11, 12], [13, 14, 15, 16]]"
            ]
          },
          "metadata": {},
          "execution_count": 8
        }
      ]
    },
    {
      "cell_type": "code",
      "source": [
        "matrik = [\n",
        "    [5,9,6,8,12],\n",
        "    [3,7,4,10,2],\n",
        "    [7,5,15,2,8],\n",
        "    [11,4,9,5,3],\n",
        "    [5,9,8,16,2]\n",
        "]\n",
        "print(matrik)"
      ],
      "metadata": {
        "colab": {
          "base_uri": "https://localhost:8080/"
        },
        "id": "6xHC8Ll6Ufql",
        "outputId": "f2a69df9-4c1b-4547-c85e-48cd71b176da"
      },
      "execution_count": null,
      "outputs": [
        {
          "output_type": "stream",
          "name": "stdout",
          "text": [
            "[[5, 9, 6, 8, 12], [3, 7, 4, 10, 2], [7, 5, 15, 2, 8], [11, 4, 9, 5, 3], [5, 9, 8, 16, 2]]\n"
          ]
        }
      ]
    },
    {
      "cell_type": "code",
      "source": [
        "for baris in matrik:\n",
        "  print(baris)\n",
        "  for kolom in baris:\n",
        "    print(kolom)"
      ],
      "metadata": {
        "colab": {
          "base_uri": "https://localhost:8080/"
        },
        "id": "gfra59_MUkIY",
        "outputId": "c9b6e038-ed9b-4be7-ccc0-ffd79d1a3f94"
      },
      "execution_count": null,
      "outputs": [
        {
          "output_type": "stream",
          "name": "stdout",
          "text": [
            "[5, 9, 6, 8, 12]\n",
            "5\n",
            "9\n",
            "6\n",
            "8\n",
            "12\n",
            "[3, 7, 4, 10, 2]\n",
            "3\n",
            "7\n",
            "4\n",
            "10\n",
            "2\n",
            "[7, 5, 15, 2, 8]\n",
            "7\n",
            "5\n",
            "15\n",
            "2\n",
            "8\n",
            "[11, 4, 9, 5, 3]\n",
            "11\n",
            "4\n",
            "9\n",
            "5\n",
            "3\n",
            "[5, 9, 8, 16, 2]\n",
            "5\n",
            "9\n",
            "8\n",
            "16\n",
            "2\n"
          ]
        }
      ]
    },
    {
      "cell_type": "markdown",
      "source": [
        "# **5.17 *Tuples*** "
      ],
      "metadata": {
        "id": "Fv1281PNwIew"
      }
    },
    {
      "cell_type": "code",
      "source": [
        "#Tuple adalah tipe data pada Python yang tidak dapat diubah\n",
        "\n",
        "#Disini saya membuat daftar beberapa huruf\n",
        "\n",
        "huruf = ('a','b','c','d','e','f')\n",
        "print(huruf[2])\n",
        "\n",
        "#Output dari perintah ini adalah indeks dari 2, yaitu c"
      ],
      "metadata": {
        "colab": {
          "base_uri": "https://localhost:8080/"
        },
        "id": "FZOmAPA6wa4Y",
        "outputId": "302865e8-ae80-466c-8f2b-4cf378a3ffeb"
      },
      "execution_count": null,
      "outputs": [
        {
          "output_type": "stream",
          "name": "stdout",
          "text": [
            "c\n"
          ]
        }
      ]
    },
    {
      "cell_type": "code",
      "source": [
        "for isi in huruf:\n",
        "  print(isi)\n",
        "\n",
        "#Perintah ini masih simple, yaitu mengubah perintah huruf menjadi isi"
      ],
      "metadata": {
        "colab": {
          "base_uri": "https://localhost:8080/"
        },
        "id": "kmw24ooI00js",
        "outputId": "473396fc-d97a-41a3-8bee-d338e228e7a2"
      },
      "execution_count": null,
      "outputs": [
        {
          "output_type": "stream",
          "name": "stdout",
          "text": [
            "a\n",
            "b\n",
            "c\n",
            "d\n",
            "e\n",
            "f\n"
          ]
        }
      ]
    },
    {
      "cell_type": "code",
      "source": [
        "print(huruf[0:3])\n",
        "\n",
        "#Sesuai dengan perintah yaitu output yang akan muncul adalah urutan dari \n",
        "#indeks ke-0 adalah a sampai indeks ke-3 yaitu d\n",
        "#Tetapi pada python indeks yang kita inginkan akan berkurang satu"
      ],
      "metadata": {
        "colab": {
          "base_uri": "https://localhost:8080/"
        },
        "id": "AvCXA9t5w4Q2",
        "outputId": "3ee29567-a28a-41fa-a0bc-280645f29aec"
      },
      "execution_count": null,
      "outputs": [
        {
          "output_type": "stream",
          "name": "stdout",
          "text": [
            "('a', 'b', 'c')\n"
          ]
        }
      ]
    },
    {
      "cell_type": "code",
      "source": [
        "print(huruf[0:4])\n",
        "print(' ')\n",
        "for isi in huruf[0:4]:\n",
        "  print(isi)"
      ],
      "metadata": {
        "colab": {
          "base_uri": "https://localhost:8080/"
        },
        "id": "m6Nm9VTyzuFU",
        "outputId": "42e3273e-de84-4ee7-adff-432f2978b0c2"
      },
      "execution_count": null,
      "outputs": [
        {
          "output_type": "stream",
          "name": "stdout",
          "text": [
            "('a', 'b', 'c', 'd')\n",
            " \n",
            "a\n",
            "b\n",
            "c\n",
            "d\n"
          ]
        }
      ]
    },
    {
      "cell_type": "code",
      "source": [
        "huruf[0]=10\n",
        "\n",
        "#Sesuai dengan definisi tuples yaitu data tidak dapat dirubah\n",
        "#Maka dari itu terjadi error ketika ingin merubah data"
      ],
      "metadata": {
        "colab": {
          "base_uri": "https://localhost:8080/",
          "height": 164
        },
        "id": "mN-qUUqfy5e0",
        "outputId": "dd4d3b78-5c69-4c6c-8a5b-f716131b70f4"
      },
      "execution_count": null,
      "outputs": [
        {
          "output_type": "error",
          "ename": "TypeError",
          "evalue": "ignored",
          "traceback": [
            "\u001b[0;31m---------------------------------------------------------------------------\u001b[0m",
            "\u001b[0;31mTypeError\u001b[0m                                 Traceback (most recent call last)",
            "\u001b[0;32m<ipython-input-25-3503a53a7a55>\u001b[0m in \u001b[0;36m<cell line: 1>\u001b[0;34m()\u001b[0m\n\u001b[0;32m----> 1\u001b[0;31m \u001b[0mhuruf\u001b[0m\u001b[0;34m[\u001b[0m\u001b[0;36m0\u001b[0m\u001b[0;34m]\u001b[0m\u001b[0;34m=\u001b[0m\u001b[0;36m10\u001b[0m\u001b[0;34m\u001b[0m\u001b[0;34m\u001b[0m\u001b[0m\n\u001b[0m",
            "\u001b[0;31mTypeError\u001b[0m: 'tuple' object does not support item assignment"
          ]
        }
      ]
    },
    {
      "cell_type": "code",
      "source": [
        "huruf.append('h')\n",
        "\n",
        "#Data tidak dapat dirubah jika menggunakan perintah tuples\n",
        "#Jika ingin merubah data sebaiknya menggunakan list agar tidak error"
      ],
      "metadata": {
        "colab": {
          "base_uri": "https://localhost:8080/",
          "height": 164
        },
        "id": "VnSTqy-mzCT_",
        "outputId": "6b1648f4-825f-4612-c734-5509d21d7d54"
      },
      "execution_count": null,
      "outputs": [
        {
          "output_type": "error",
          "ename": "AttributeError",
          "evalue": "ignored",
          "traceback": [
            "\u001b[0;31m---------------------------------------------------------------------------\u001b[0m",
            "\u001b[0;31mAttributeError\u001b[0m                            Traceback (most recent call last)",
            "\u001b[0;32m<ipython-input-26-44f7f9486ea5>\u001b[0m in \u001b[0;36m<cell line: 1>\u001b[0;34m()\u001b[0m\n\u001b[0;32m----> 1\u001b[0;31m \u001b[0mhuruf\u001b[0m\u001b[0;34m.\u001b[0m\u001b[0mappend\u001b[0m\u001b[0;34m(\u001b[0m\u001b[0;34m'h'\u001b[0m\u001b[0;34m)\u001b[0m\u001b[0;34m\u001b[0m\u001b[0;34m\u001b[0m\u001b[0m\n\u001b[0m",
            "\u001b[0;31mAttributeError\u001b[0m: 'tuple' object has no attribute 'append'"
          ]
        }
      ]
    },
    {
      "cell_type": "code",
      "source": [
        "huruf.remove('a')\n",
        "\n",
        "#Data tidak dapat dirubah jika menggunakan perintah tuples"
      ],
      "metadata": {
        "colab": {
          "base_uri": "https://localhost:8080/",
          "height": 164
        },
        "id": "dApsFmIJzKbC",
        "outputId": "9e695a48-aa2f-48bd-8cec-aa92b65bc59e"
      },
      "execution_count": null,
      "outputs": [
        {
          "output_type": "error",
          "ename": "AttributeError",
          "evalue": "ignored",
          "traceback": [
            "\u001b[0;31m---------------------------------------------------------------------------\u001b[0m",
            "\u001b[0;31mAttributeError\u001b[0m                            Traceback (most recent call last)",
            "\u001b[0;32m<ipython-input-27-ea720e3b09c1>\u001b[0m in \u001b[0;36m<cell line: 1>\u001b[0;34m()\u001b[0m\n\u001b[0;32m----> 1\u001b[0;31m \u001b[0mhuruf\u001b[0m\u001b[0;34m.\u001b[0m\u001b[0mremove\u001b[0m\u001b[0;34m(\u001b[0m\u001b[0;34m'a'\u001b[0m\u001b[0;34m)\u001b[0m\u001b[0;34m\u001b[0m\u001b[0;34m\u001b[0m\u001b[0m\n\u001b[0m",
            "\u001b[0;31mAttributeError\u001b[0m: 'tuple' object has no attribute 'remove'"
          ]
        }
      ]
    },
    {
      "cell_type": "code",
      "source": [
        "huruf.count('f')\n",
        "\n",
        "#Arti dari perintah ini adalah menghitung banyaknya huruf f pada data yang kita buat"
      ],
      "metadata": {
        "colab": {
          "base_uri": "https://localhost:8080/"
        },
        "id": "eO23PEuUxlkQ",
        "outputId": "7ec7c5ae-3042-40a8-d8b6-76c9c95ce717"
      },
      "execution_count": null,
      "outputs": [
        {
          "output_type": "execute_result",
          "data": {
            "text/plain": [
              "1"
            ]
          },
          "metadata": {},
          "execution_count": 30
        }
      ]
    },
    {
      "cell_type": "code",
      "source": [
        "huruf.index('d')\n",
        "#Arti dari perintah ini adalah menentukan huruf yang kita inginkan berada pada indeks ke berapa"
      ],
      "metadata": {
        "colab": {
          "base_uri": "https://localhost:8080/"
        },
        "id": "mci_rbgryR_J",
        "outputId": "4bb5494f-f80e-4f96-8f0a-ff3fa64b8151"
      },
      "execution_count": null,
      "outputs": [
        {
          "output_type": "execute_result",
          "data": {
            "text/plain": [
              "3"
            ]
          },
          "metadata": {},
          "execution_count": 29
        }
      ]
    },
    {
      "cell_type": "markdown",
      "source": [
        "# **5.18 *Dictionaries***"
      ],
      "metadata": {
        "id": "kkd55oqN3S8U"
      }
    },
    {
      "cell_type": "code",
      "source": [
        "data_orang = {\n",
        "    \"nama\" : \"Doni Lukman\",\n",
        "    \"umur\" : 19,\n",
        "    \"apakah_single\" : False\n",
        "}\n",
        "print(data_orang[\"nama\"])\n",
        "print(data_orang.get(\"nama\"))\n",
        "print(data_orang.get(\"tanggal lahir\"))"
      ],
      "metadata": {
        "colab": {
          "base_uri": "https://localhost:8080/"
        },
        "id": "VlE69WEIWb3w",
        "outputId": "bc4abd1a-9fde-46f1-ea92-d508fe689ebc"
      },
      "execution_count": null,
      "outputs": [
        {
          "output_type": "stream",
          "name": "stdout",
          "text": [
            "Doni Lukman\n",
            "Doni Lukman\n",
            "None\n"
          ]
        }
      ]
    },
    {
      "cell_type": "code",
      "source": [
        "data_orang[\"HP\"] = \"081447896269\"\n",
        "print(data_orang[\"HP\"])\n",
        "print(data_orang.get(\"HP\"))"
      ],
      "metadata": {
        "colab": {
          "base_uri": "https://localhost:8080/"
        },
        "id": "ubLeuu_FW5N6",
        "outputId": "f426eff6-16fc-42e2-ba7a-afef62e09f96"
      },
      "execution_count": null,
      "outputs": [
        {
          "output_type": "stream",
          "name": "stdout",
          "text": [
            "081447896269\n",
            "081447896269\n"
          ]
        }
      ]
    },
    {
      "cell_type": "markdown",
      "source": [
        "# **5.19 Fungsi dalam Python**"
      ],
      "metadata": {
        "id": "L3k15_Ib3kUE"
      }
    },
    {
      "cell_type": "code",
      "source": [
        "#Fungsi pada python ini dapat digunakan untuk menjalankan perintah\n",
        "#Kita harus membuat definisinya terlebih dahulu agar perintah dapat dijalankan\n",
        "\n",
        "def full_name(first_name,last_name):\n",
        "  print(f\"Nama lengkapnya adalah {first_name} {last_name}\")"
      ],
      "metadata": {
        "id": "QPRv0H3x60-5"
      },
      "execution_count": null,
      "outputs": []
    },
    {
      "cell_type": "code",
      "source": [
        "first_name = input(\"Nama depan anda adalah \")\n",
        "last_name = input(\"Nama belakang anda adalah \")\n",
        "full_name(first_name,last_name)\n",
        "\n",
        "#Pada cell sebelumnya saya sudah membuat definisi dari perintah yang diinginkan\n",
        "#Jadi pada fungsi ini kita dapat menginput data sesuai perintah pada saat kode dijalankan"
      ],
      "metadata": {
        "colab": {
          "base_uri": "https://localhost:8080/"
        },
        "id": "9JctNXTJ7p6A",
        "outputId": "fa0fe853-0eec-41e0-b74a-52cfe31b03b8"
      },
      "execution_count": null,
      "outputs": [
        {
          "output_type": "stream",
          "name": "stdout",
          "text": [
            "Nama depan anda adalah Kleo\n",
            "Nama belakang anda adalah Handayani\n",
            "Nama lengkapnya adalah Kleo Handayani\n"
          ]
        }
      ]
    },
    {
      "cell_type": "code",
      "source": [
        "#Fungsi parameter opsional\n",
        "\n",
        "def suhu_udara (daerah, derajat, satuan = \"celcius\"):\n",
        "  print(f\"Suhu di {daerah} adalah {derajat} derajat {satuan}\")\n",
        "\n",
        "#Pada fungsi yang saya buat saya mendefinisikan tiga parameter\n",
        "#Dua parameter pertama adalah bersifat wajib sedangkan parameter ketiga tidak wajib\n",
        "#Jika tidak kita isi, maka nilai default-nya adalah “celcius”"
      ],
      "metadata": {
        "id": "_8n-dQuVXZEp"
      },
      "execution_count": 1,
      "outputs": []
    },
    {
      "cell_type": "code",
      "source": [
        "suhu_udara(\"Kuta Selatan\", 29)\n",
        "suhu_udara(\"Gianyar\", 86, \"Farenheit\")\n",
        "\n",
        "#Saya mencoba dua cara, yaitu menambahkan parameter ketiga dan tidak ditambahkan\n",
        "#Maka outputnya pun akan berbeda"
      ],
      "metadata": {
        "colab": {
          "base_uri": "https://localhost:8080/"
        },
        "id": "krKjndN9Kj0A",
        "outputId": "1b6f42c2-38d3-4289-b5f1-82c158120338"
      },
      "execution_count": 2,
      "outputs": [
        {
          "output_type": "stream",
          "name": "stdout",
          "text": [
            "Suhu di Kuta Selatan adalah 29 derajat celcius\n",
            "Suhu di Gianyar adalah 86 derajat Farenheit\n"
          ]
        }
      ]
    },
    {
      "cell_type": "code",
      "source": [
        "#Fungsi pada cell ini akan mengembalikan nilai\n",
        "\n",
        "def luas_persegi(sisi):\n",
        "  return sisi*sisi\n",
        "\n",
        "#Perintah return digunakan untuk mengembalikan nilai\n",
        "\n",
        "print(\"Luas persegi dengan sisi 7 adalah:\", luas_persegi(7))\n",
        "persegi_besar = luas_persegi(10)\n",
        "persegi_kecil = luas_persegi(2)\n",
        "print(\"Total luas persegi besar dan kecil adalah:\", persegi_besar + persegi_kecil)\n",
        "\n",
        "#Nilai yang dikembalikan suatu fungsi, bisa kita olah kembali untuk berbagai kebutuhan."
      ],
      "metadata": {
        "colab": {
          "base_uri": "https://localhost:8080/"
        },
        "id": "akmuj30uNQqM",
        "outputId": "c26376f7-bb4a-4e06-963a-413bb830cf83"
      },
      "execution_count": null,
      "outputs": [
        {
          "output_type": "stream",
          "name": "stdout",
          "text": [
            "Luas persegi dengan sisi 7 adalah: 49\n",
            "Total luas persegi besar dan kecil adalah: 104\n"
          ]
        }
      ]
    },
    {
      "cell_type": "markdown",
      "source": [
        "# **5.20 Numpy**"
      ],
      "metadata": {
        "id": "CesMM7bxFHqT"
      }
    },
    {
      "cell_type": "code",
      "source": [
        "#Numpy memiliki fungsi yang memudahkan kita untuk melakukan perhitungan saintifik\n",
        "#List juga dapat melakukan perhitungan saintifik, namun beberapa operasi perhitungan harus dibuat secara manual\n",
        "\n",
        "import numpy as np\n",
        "\n",
        "#Numpy harus kita impor dulu agar bisa digunakan di dalam program."
      ],
      "metadata": {
        "id": "PpwUvl0fFLqU"
      },
      "execution_count": 2,
      "outputs": []
    },
    {
      "cell_type": "markdown",
      "source": [
        "# **5.20.1 Perintah Dasar pada *Numpy***"
      ],
      "metadata": {
        "id": "ZhDi52C6tvwM"
      }
    },
    {
      "cell_type": "code",
      "source": [
        "#Pada kode ini akan menghitung hasil penjumlahan tiap elemen di list\n",
        "\n",
        "import numpy as np\n",
        "matrik_a = np.array([\n",
        "    [11, 12, 13],\n",
        "    [14, 15, 16],\n",
        "    [17, 18, 19]])\n",
        "matrik_b = np.array([\n",
        "    [13, 12, 11],\n",
        "    [16, 15, 14],\n",
        "    [19, 18, 17]])\n",
        "hasil = matrik_a + matrik_b\n",
        "print(hasil)\n",
        "\n",
        "#Matriks di dalam kode program biasanya dibuat dengan array karena matrik terdiri dari baris dan kolom.\n",
        "#Karena pada cell ini saya akan menghitung hasil penjumlahan tiap elemen,\n",
        "#maka saya menggunakan operasi penjumlahan"
      ],
      "metadata": {
        "id": "D3QUscFNbi3l",
        "colab": {
          "base_uri": "https://localhost:8080/"
        },
        "outputId": "0a0e2cab-8d7f-460e-e0d5-5020747210a1"
      },
      "execution_count": 6,
      "outputs": [
        {
          "output_type": "stream",
          "name": "stdout",
          "text": [
            "[[24 24 24]\n",
            " [30 30 30]\n",
            " [36 36 36]]\n"
          ]
        }
      ]
    },
    {
      "cell_type": "code",
      "source": [
        "import numpy as np\n",
        "matrik_a = np.array([\n",
        "    [1, 2],\n",
        "    [3, 4]])\n",
        "matrik_b = np.array([\n",
        "    [5, 6],\n",
        "    [7, 8]])\n",
        "hasil = matrik_b - matrik_a\n",
        "print(hasil)\n",
        "\n",
        "#Karena pada cell ini saya akan menghitung hasil pengurangan tiap elemen,\n",
        "#maka saya menggunakan operasi pengurangan"
      ],
      "metadata": {
        "colab": {
          "base_uri": "https://localhost:8080/"
        },
        "id": "KYAyebBgdp66",
        "outputId": "9a3316ab-a5f5-4e8f-83ca-05d8fd015def"
      },
      "execution_count": 8,
      "outputs": [
        {
          "output_type": "stream",
          "name": "stdout",
          "text": [
            "[[4 4]\n",
            " [4 4]]\n"
          ]
        }
      ]
    },
    {
      "cell_type": "markdown",
      "source": [
        "# **5.20.2 Memanggil Anggota, Kolom dan Baris dengan *Numpy***"
      ],
      "metadata": {
        "id": "sAIZRHCqt_p8"
      }
    },
    {
      "cell_type": "code",
      "source": [
        "import numpy as np\n",
        "d = np.array([[5,9,6,8,12], [3,7,4,10,2], [7,5,15,2,8], [11,4,9,5,3], [5,9,8,16,2]])\n",
        "print(d)"
      ],
      "metadata": {
        "colab": {
          "base_uri": "https://localhost:8080/"
        },
        "id": "DhVzIyEJe0FB",
        "outputId": "2dd75b12-3aab-4a7f-a028-78d7db2257c0"
      },
      "execution_count": 9,
      "outputs": [
        {
          "output_type": "stream",
          "name": "stdout",
          "text": [
            "[[ 5  9  6  8 12]\n",
            " [ 3  7  4 10  2]\n",
            " [ 7  5 15  2  8]\n",
            " [11  4  9  5  3]\n",
            " [ 5  9  8 16  2]]\n"
          ]
        }
      ]
    },
    {
      "cell_type": "code",
      "source": [
        "d[1,4]"
      ],
      "metadata": {
        "colab": {
          "base_uri": "https://localhost:8080/"
        },
        "id": "MU1IWlKoh44s",
        "outputId": "9362a247-c19a-47da-c536-13617c9d47f3"
      },
      "execution_count": 12,
      "outputs": [
        {
          "output_type": "execute_result",
          "data": {
            "text/plain": [
              "2"
            ]
          },
          "metadata": {},
          "execution_count": 12
        }
      ]
    },
    {
      "cell_type": "code",
      "source": [
        "d[2,:]"
      ],
      "metadata": {
        "colab": {
          "base_uri": "https://localhost:8080/"
        },
        "id": "Kr8x2iBFiKu-",
        "outputId": "73f8097d-eac0-417c-bc48-21cb3bbf9fb6"
      },
      "execution_count": 14,
      "outputs": [
        {
          "output_type": "execute_result",
          "data": {
            "text/plain": [
              "array([ 7,  5, 15,  2,  8])"
            ]
          },
          "metadata": {},
          "execution_count": 14
        }
      ]
    },
    {
      "cell_type": "markdown",
      "source": [
        "# **5.20.3 Matrix pada *Numpy***"
      ],
      "metadata": {
        "id": "FYn3iLQuuPhz"
      }
    },
    {
      "cell_type": "code",
      "source": [
        "#Pada kode ini saya membuat matriks dengan perintah untuk mengubah ukurannya\n",
        "\n",
        "matrik_a = np.array([1, 1, 1, 1, 1, 1, 1, 1, 1])\n",
        "\n",
        "print(\"Matrik awal: \")\n",
        "print(matrik_a)\n",
        "print(\"Ukuran = \", matrik_a.shape)\n",
        "\n",
        "hasil = matrik_a.reshape(3, 3)\n",
        "\n",
        "print(\"Mengubah ke 3x3: \")\n",
        "print(hasil)\n",
        "\n",
        "#Perintah .shape berfungsi untuk mengetahui ukuran array\n",
        "#perintah .reshape digunakan untuk mengubah ukuran array"
      ],
      "metadata": {
        "colab": {
          "base_uri": "https://localhost:8080/"
        },
        "id": "DrzrRggHqmwP",
        "outputId": "497fd888-50ef-4478-fd11-63996baa7c78"
      },
      "execution_count": 33,
      "outputs": [
        {
          "output_type": "stream",
          "name": "stdout",
          "text": [
            "Matrik awal: \n",
            "[1 1 1 1 1 1 1 1 1]\n",
            "Ukuran =  (9,)\n",
            "Mengubah ke 3x3: \n",
            "[[1 1 1]\n",
            " [1 1 1]\n",
            " [1 1 1]]\n"
          ]
        }
      ]
    },
    {
      "cell_type": "markdown",
      "source": [
        "# **5.20.4 Copy pada *Numpy***"
      ],
      "metadata": {
        "id": "_uGWLzO5uk5-"
      }
    },
    {
      "cell_type": "code",
      "source": [
        "import numpy as np\n",
        "\n",
        "#Copy memiliki data dan perubahan apapun yang dilakukan copy tidak akan memengaruhi array asli\n",
        "\n",
        "arr = np.array([1, 2, 3, 4, 5])\n",
        "x = arr.copy()\n",
        "arr[0] = 42\n",
        "\n",
        "print(x)\n",
        "print(arr)\n",
        "\n",
        "#Disini saya membuat copy array dengan mengubah array asli dan menampilkan kedua array"
      ],
      "metadata": {
        "colab": {
          "base_uri": "https://localhost:8080/"
        },
        "id": "b6jtR7i6jZ3a",
        "outputId": "582c28ab-d606-462e-ae95-cfd33d46760a"
      },
      "execution_count": 19,
      "outputs": [
        {
          "output_type": "stream",
          "name": "stdout",
          "text": [
            "[1 2 3 4 5]\n",
            "[42  2  3  4  5]\n"
          ]
        }
      ]
    },
    {
      "cell_type": "code",
      "source": [
        "import numpy as np\n",
        "\n",
        "arr = np.array([1, 2, 3, 4, 5])\n",
        "\n",
        "x = arr.copy()\n",
        "y = arr.view()\n",
        "\n",
        "print(x.base)\n",
        "print(y.base)\n",
        "\n",
        "#Disini saya mencetak nilai untuk memeriksa apakah sebuah array memiliki datanya atau tidak\n",
        "#Setiap array Numpy memiliki nilai yang mengembalikan None jika array memiliki datanya\n",
        "#Jika tidak, nilai mengacu pada objek asli"
      ],
      "metadata": {
        "colab": {
          "base_uri": "https://localhost:8080/"
        },
        "id": "-oT1UfERk6Vx",
        "outputId": "ee555915-4a6c-4d14-c117-aa7d6d554006"
      },
      "execution_count": 20,
      "outputs": [
        {
          "output_type": "stream",
          "name": "stdout",
          "text": [
            "None\n",
            "[1 2 3 4 5]\n"
          ]
        }
      ]
    },
    {
      "cell_type": "markdown",
      "source": [
        "# **5.20.5 Operasi Matematika pada *Numpy***"
      ],
      "metadata": {
        "id": "mxWwu_djuwD0"
      }
    },
    {
      "cell_type": "code",
      "source": [
        "#Numpy memiliki kelebihan untuk memproses operasi matematika\n",
        "\n",
        "import numpy as np\n",
        "a = np.array([-1.77, 1.33, -0.22, 0.55, 10])\n",
        "print (np.around(a, decimals = 1))\n",
        "#Numpy.around() – digunakan untuk membulatkan beberapa desimal dibelakang koma\n",
        "#Dengan aturan nilai batas adalah 5\n",
        "\n",
        "print (np.floor(a))\n",
        "#Digunakan saat ingin melakukan pembulatan ke bawah\n",
        "\n",
        "print (np.ceil(a))\n",
        "#Dilakukan saat ingin melakukan pembulatan ke atas"
      ],
      "metadata": {
        "colab": {
          "base_uri": "https://localhost:8080/"
        },
        "id": "v5fdeC3LlRyK",
        "outputId": "5b5e2c07-a36c-4655-f300-8b3fee176e76"
      },
      "execution_count": 4,
      "outputs": [
        {
          "output_type": "stream",
          "name": "stdout",
          "text": [
            "[-1.8  1.3 -0.2  0.6 10. ]\n",
            "[-2.  1. -1.  0. 10.]\n",
            "[-1.  2. -0.  1. 10.]\n"
          ]
        }
      ]
    },
    {
      "cell_type": "markdown",
      "source": [
        "# **5.20.6 Perkalian Matrik pada *Numpy***"
      ],
      "metadata": {
        "id": "c6iJmQ12u9zx"
      }
    },
    {
      "cell_type": "code",
      "source": [
        "matriks_a = np.array([[1,2],\n",
        "                     [2,1]])\n",
        "matriks_b = np.array([[2,2],\n",
        "                     [1,1]])   \n",
        "\n",
        "perkalian_biasa = matriks_a*matriks_b\n",
        "perkalian_matriks = np.dot(matriks_a, matriks_b)\n",
        "print(\"Perkalian Biasa Matriks : \")\n",
        "print(perkalian_biasa)\n",
        "\n",
        "print(\"Perkalian Matriks : \")\n",
        "print(perkalian_matriks)\n",
        "\n",
        "#Saya membuat 2 variabel yang berisi array \n",
        "#Untuk mengalikan matriks tinggal menggunakan fungsi numpy yaitu np.dot(matriks1,matriks2) \n",
        "#Jika perkalian biasa tinggal gunakan operasi perkalian biasa"
      ],
      "metadata": {
        "colab": {
          "base_uri": "https://localhost:8080/"
        },
        "id": "7K8YpEISnvTL",
        "outputId": "6fc4fd85-3033-4dbd-9e57-36226faed8de"
      },
      "execution_count": 23,
      "outputs": [
        {
          "output_type": "stream",
          "name": "stdout",
          "text": [
            "Perkalian Biasa Matriks : \n",
            "[[2 4]\n",
            " [2 1]]\n",
            "Perkalian Matriks : \n",
            "[[4 4]\n",
            " [5 5]]\n"
          ]
        }
      ]
    },
    {
      "cell_type": "markdown",
      "source": [
        "# **5.20.7 *min*, *max* dan *sum* pada *Numpy***"
      ],
      "metadata": {
        "id": "b349foBovDQx"
      }
    },
    {
      "cell_type": "code",
      "source": [
        "nilai_siswa = np.array([55, 43, 98, 76 ,65 ,77 ,65, 90])\n",
        "print(\"Nilai minimal = \", nilai_siswa.min())\n",
        "print(\"Nilai maksimal = \", nilai_siswa.max())\n",
        "print(\"Nilai rata-rata = \", nilai_siswa.mean())\n",
        "print(\"Total nilai = \", nilai_siswa.sum())"
      ],
      "metadata": {
        "colab": {
          "base_uri": "https://localhost:8080/"
        },
        "id": "789p-EwQpfbP",
        "outputId": "f9636f2d-4f76-4c8a-f7b1-8f8ec879b485"
      },
      "execution_count": 34,
      "outputs": [
        {
          "output_type": "stream",
          "name": "stdout",
          "text": [
            "Nilai minimal =  43\n",
            "Nilai maksimal =  98\n",
            "Nilai rata-rata =  71.125\n",
            "Total nilai =  569\n"
          ]
        }
      ]
    }
  ]
}