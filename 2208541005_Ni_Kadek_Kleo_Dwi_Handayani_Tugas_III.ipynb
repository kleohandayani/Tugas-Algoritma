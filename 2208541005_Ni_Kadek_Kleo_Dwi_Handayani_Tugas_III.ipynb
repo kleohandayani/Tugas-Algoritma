{
  "nbformat": 4,
  "nbformat_minor": 0,
  "metadata": {
    "colab": {
      "provenance": []
    },
    "kernelspec": {
      "name": "python3",
      "display_name": "Python 3"
    },
    "language_info": {
      "name": "python"
    }
  },
  "cells": [
    {
      "cell_type": "code",
      "execution_count": 16,
      "metadata": {
        "id": "XDiG6jp6YyIv",
        "colab": {
          "base_uri": "https://localhost:8080/"
        },
        "outputId": "ea1c021e-c00c-4e57-f8fa-cb4c45980aae"
      },
      "outputs": [
        {
          "output_type": "stream",
          "name": "stdout",
          "text": [
            "Hari senin\n"
          ]
        }
      ],
      "source": [
        "Matematika = 'Hari senin matkul Algoritma'\n",
        "print (Matematika [0:10])\n",
        "#Disini variabel berupa string diurutkan dengan index yang dimulai dari 0. \n",
        "#Dimana pada kata pertama adalah 0 dan urutan yang kita perintahkan dikurangi satu.\n",
        "#Contohnya seperti diatas, saya membuat string index dari 0 hingga 10, yang dimana nanti yang terhitung adalah sampai urutan ke-9."
      ]
    },
    {
      "cell_type": "code",
      "source": [
        "Matematika = 'Hari senin matkul Algoritma'\n",
        "print (Matematika [0:-6])\n",
        "#Hal menarik dari python adalah pada string index ini urutan terakhir akan terhitung sebagai -1 \n",
        "#dan begitupun selanjutnya jika menghitung dari urutan terakhir. "
      ],
      "metadata": {
        "colab": {
          "base_uri": "https://localhost:8080/"
        },
        "id": "hjfI8h0nlTqC",
        "outputId": "ace54c3c-820d-4d9f-9c77-387babc1f205"
      },
      "execution_count": 10,
      "outputs": [
        {
          "output_type": "stream",
          "name": "stdout",
          "text": [
            "Hari senin matkul Alg\n"
          ]
        }
      ]
    },
    {
      "cell_type": "code",
      "source": [
        "Matematika = 'Hari senin matkul Algoritma'\n",
        "print (Matematika [0:-4:6])\n",
        "#Disini menghasilkan output yang sedikit aneh karena menggunakan 3 pembagian urutan.\n",
        "#Jadi maksud dari string ini adalah index yang dimulai dari 0 kemudian huruf yang akan muncul adalah urutan setiap kelipatan 6 \n",
        "#hingga dengan batas -4 yang tertera. Jadi jika -4 itu ada pada huruf i maka urutan kelipatan 6 setelah huruf i tidak akan dihitung."
      ],
      "metadata": {
        "colab": {
          "base_uri": "https://localhost:8080/"
        },
        "id": "ZucZhScLlcf1",
        "outputId": "b7f5200b-d7ca-4745-bb2a-6a4edd0f2b9b"
      },
      "execution_count": 17,
      "outputs": [
        {
          "output_type": "stream",
          "name": "stdout",
          "text": [
            "HeaA\n"
          ]
        }
      ]
    },
    {
      "cell_type": "code",
      "source": [
        "Kampus = 'Kampus Bukit Jimbaran banyak hutan'\n",
        "print(len(Kampus))\n",
        "#Perintah ini adalah untuk menghitung banyaknya huruf termasuk spasi yang ada pada kalimat tersebut."
      ],
      "metadata": {
        "colab": {
          "base_uri": "https://localhost:8080/"
        },
        "id": "J6YwYflQmsrP",
        "outputId": "1d1c1716-6c8b-4da6-f771-97616cbb9252"
      },
      "execution_count": 18,
      "outputs": [
        {
          "output_type": "stream",
          "name": "stdout",
          "text": [
            "34\n"
          ]
        }
      ]
    },
    {
      "cell_type": "code",
      "source": [
        "Kampus = 'Kampus Bukit Jimbaran banyak hutan'\n",
        "Kampus.upper()\n",
        "#Perintah ini untuk mengonversi huruf kecil dalam bentuk string ke huruf besar."
      ],
      "metadata": {
        "colab": {
          "base_uri": "https://localhost:8080/",
          "height": 37
        },
        "id": "wTCFi_dksodj",
        "outputId": "8114f6c5-87ee-4880-df0c-8546edc184fe"
      },
      "execution_count": 20,
      "outputs": [
        {
          "output_type": "execute_result",
          "data": {
            "text/plain": [
              "'KAMPUS BUKIT JIMBARAN BANYAK HUTAN'"
            ],
            "application/vnd.google.colaboratory.intrinsic+json": {
              "type": "string"
            }
          },
          "metadata": {},
          "execution_count": 20
        }
      ]
    },
    {
      "cell_type": "code",
      "source": [
        "Kampus = 'Kampus Bukit Jimbaran banyak hutan'\n",
        "Kampus.lower\n",
        "#Pada perintah ini terjadi kesalahan dikarenakan pada perintah tidak diisi tanda kurung."
      ],
      "metadata": {
        "colab": {
          "base_uri": "https://localhost:8080/"
        },
        "id": "t7zTeojgsyM7",
        "outputId": "f942dead-ae88-4eac-b763-c5a2795cd61a"
      },
      "execution_count": 23,
      "outputs": [
        {
          "output_type": "execute_result",
          "data": {
            "text/plain": [
              "<function str.lower()>"
            ]
          },
          "metadata": {},
          "execution_count": 23
        }
      ]
    },
    {
      "cell_type": "code",
      "source": [
        "Kampus = 'Kampus Bukit Jimbaran banyak hutan'\n",
        "Kampus.lower()\n",
        "#Perintah ini untuk mengonversi huruf besar dalam bentuk string ke huruf kecil."
      ],
      "metadata": {
        "colab": {
          "base_uri": "https://localhost:8080/",
          "height": 37
        },
        "id": "pd8faXgns_sG",
        "outputId": "49da1571-8f58-4acb-d63d-74173f758f9f"
      },
      "execution_count": 24,
      "outputs": [
        {
          "output_type": "execute_result",
          "data": {
            "text/plain": [
              "'kampus bukit jimbaran banyak hutan'"
            ],
            "application/vnd.google.colaboratory.intrinsic+json": {
              "type": "string"
            }
          },
          "metadata": {},
          "execution_count": 24
        }
      ]
    },
    {
      "cell_type": "code",
      "source": [
        "Kampus.find('Jimbaran')\n",
        "#Perintah ini adalah untuk menghitung jumlah huruf pada kata yang kita cari."
      ],
      "metadata": {
        "colab": {
          "base_uri": "https://localhost:8080/"
        },
        "id": "YTY3J53RtHE6",
        "outputId": "0831e996-ace4-4a4f-95af-cda180be8c46"
      },
      "execution_count": 25,
      "outputs": [
        {
          "output_type": "execute_result",
          "data": {
            "text/plain": [
              "13"
            ]
          },
          "metadata": {},
          "execution_count": 25
        }
      ]
    },
    {
      "cell_type": "code",
      "source": [
        "Kampus.find('Hutan')\n",
        "#Sama seperti perintah diatas, yaitu menghitung jumlah huruf pada kata yang kita cari.\n",
        "#Namun kata Hutan dengan huruf H kapital tidak ditemukan pada kalimat yang kita buat, maka output menghasilkan -1."
      ],
      "metadata": {
        "colab": {
          "base_uri": "https://localhost:8080/"
        },
        "id": "I8g2D11EtQ8y",
        "outputId": "6084dbaf-8c7a-47e3-b39f-c57a3981fd10"
      },
      "execution_count": 26,
      "outputs": [
        {
          "output_type": "execute_result",
          "data": {
            "text/plain": [
              "-1"
            ]
          },
          "metadata": {},
          "execution_count": 26
        }
      ]
    },
    {
      "cell_type": "code",
      "source": [
        "Kampus.replace('Bukit Jimbaran' , 'Sudirman Denpasar')\n",
        "#Perintah ini digunakan untuk mengganti kata yang kita perintahkan ke kata yang kita mau.\n",
        "#Dengan catatan kata yang ingin diganti harus sesuai dengan kalimat yang kita buat."
      ],
      "metadata": {
        "colab": {
          "base_uri": "https://localhost:8080/",
          "height": 37
        },
        "id": "Rt_zxMKHtdaa",
        "outputId": "f3152664-dd4c-4486-cf43-bf098afeb343"
      },
      "execution_count": 27,
      "outputs": [
        {
          "output_type": "execute_result",
          "data": {
            "text/plain": [
              "'Kampus Sudirman Denpasar banyak hutan'"
            ],
            "application/vnd.google.colaboratory.intrinsic+json": {
              "type": "string"
            }
          },
          "metadata": {},
          "execution_count": 27
        }
      ]
    },
    {
      "cell_type": "code",
      "source": [
        "Kampus.replace('jimbaran', 'Sudirman')\n",
        "#Output dari perintah ini sama saja dengan kalimat awal. Karena disini ada kesalahan pada penulisan kata yang ingin dirubah.\n",
        "#Yang dimana kata yang saya perintahkan untuk diganti itu tidak sesuai dengan kalimat awal."
      ],
      "metadata": {
        "colab": {
          "base_uri": "https://localhost:8080/",
          "height": 37
        },
        "id": "EsJSYbmZt2I0",
        "outputId": "13fcb82c-9a0b-4cf1-ef19-59242f730985"
      },
      "execution_count": 28,
      "outputs": [
        {
          "output_type": "execute_result",
          "data": {
            "text/plain": [
              "'Kampus Bukit Jimbaran banyak hutan'"
            ],
            "application/vnd.google.colaboratory.intrinsic+json": {
              "type": "string"
            }
          },
          "metadata": {},
          "execution_count": 28
        }
      ]
    },
    {
      "cell_type": "code",
      "source": [
        "print('Jimbaran' in Kampus)\n",
        "#Disini saya menggunakan perintah untuk memastikan kata yang saya masukkan ini terdapat dalam kalimat Kampus."
      ],
      "metadata": {
        "colab": {
          "base_uri": "https://localhost:8080/"
        },
        "id": "A1Fhn-CyuRXm",
        "outputId": "555b02cc-5e8b-45b3-dcf0-1a5bc72de29c"
      },
      "execution_count": 31,
      "outputs": [
        {
          "output_type": "stream",
          "name": "stdout",
          "text": [
            "True\n"
          ]
        }
      ]
    },
    {
      "cell_type": "code",
      "source": [
        "print('bukit' in Kampus)\n",
        "#Karena penulisan bukit ini tidak terdapat pada kalimat Kampus, maka program menyatakan salah pada perintah ini."
      ],
      "metadata": {
        "colab": {
          "base_uri": "https://localhost:8080/"
        },
        "id": "-kvycEHzuX-r",
        "outputId": "9bf51169-bbba-4d14-e0c1-ba9ad65dac0c"
      },
      "execution_count": 32,
      "outputs": [
        {
          "output_type": "stream",
          "name": "stdout",
          "text": [
            "False\n"
          ]
        }
      ]
    },
    {
      "cell_type": "code",
      "source": [
        "print (63988/3)\n",
        "print (76528//2)\n",
        "#Dapat dilihat jika kita menggunakan satu garis miring, maka sisa akan muncul pada operasi pembagian ini. \n",
        "#Namun, jika menggunakan 2 garis miring maka sisa tidak akan muncul."
      ],
      "metadata": {
        "colab": {
          "base_uri": "https://localhost:8080/"
        },
        "id": "xSaATY-74ngw",
        "outputId": "a2ec6764-8a5c-4a55-ddf2-a6376a39bbdc"
      },
      "execution_count": 3,
      "outputs": [
        {
          "output_type": "stream",
          "name": "stdout",
          "text": [
            "21329.333333333332\n",
            "38264\n"
          ]
        }
      ]
    },
    {
      "cell_type": "code",
      "source": [
        "print (8%3)\n",
        "print (4**3)\n",
        "# % merupakan mod yang dimana artinya menghitung sisa bagi.\n",
        "#Sedangkan ** merupakan operasi pangkat."
      ],
      "metadata": {
        "colab": {
          "base_uri": "https://localhost:8080/"
        },
        "id": "FRFWIvLn4vF-",
        "outputId": "1e1391ad-041c-4741-d0fa-0a62832dcf80"
      },
      "execution_count": 4,
      "outputs": [
        {
          "output_type": "stream",
          "name": "stdout",
          "text": [
            "2\n",
            "64\n"
          ]
        }
      ]
    },
    {
      "cell_type": "code",
      "source": [
        "x = 7\n",
        "y = 3\n",
        "print (str(x+y))\n",
        "print (str(x-y))\n",
        "print (str(x*y))\n",
        "print (str(x**y))\n",
        "print (str(x/y))\n",
        "print (str(x//y))\n",
        "#Kode diatas merupakan operasi matematika pada python."
      ],
      "metadata": {
        "colab": {
          "base_uri": "https://localhost:8080/"
        },
        "id": "RdZAr98jHRc5",
        "outputId": "24483f8e-e621-42e1-9635-6c1f9cc2015f"
      },
      "execution_count": 5,
      "outputs": [
        {
          "output_type": "stream",
          "name": "stdout",
          "text": [
            "10\n",
            "4\n",
            "21\n",
            "343\n",
            "2.3333333333333335\n",
            "2\n"
          ]
        }
      ]
    },
    {
      "cell_type": "code",
      "source": [
        "x = float (input('Masukkan x adalah: '))\n",
        "y = float (input('Masukkan y adalah: '))\n",
        "x += y\n",
        "print (\"\\n Hasil operasi 'x+=y' adalah \" , x)\n",
        "x -= y\n",
        "print (\"\\n Hasil operasi 'x-=y' adalah \" , x)\n",
        "x *= y\n",
        "print (\"\\n Hasil operasi 'x*=y' adalah \" , x)\n",
        "x /= y\n",
        "print (\"\\n Hasil operasi 'x/=y' adalah \" , x)\n",
        "x %= y\n",
        "print (\"\\n Hasil operasi 'x%=y' adalah \" , x)\n",
        "x **= y\n",
        "print (\"\\n Hasil operasi 'x**=y' adalah \" , x)\n",
        "#Kode ini mengoperasikan variabel x dan y ke operasi matematika, yang dimana nanti hasilnya akan dimasukkan ke variabel x."
      ],
      "metadata": {
        "colab": {
          "base_uri": "https://localhost:8080/"
        },
        "id": "XxJXuuuyJOgZ",
        "outputId": "68f4ee0d-d78b-4907-d6f0-089d160f0f63"
      },
      "execution_count": 9,
      "outputs": [
        {
          "output_type": "stream",
          "name": "stdout",
          "text": [
            "Masukkan x adalah: 15\n",
            "Masukkan y adalah: 4\n",
            "\n",
            " Hasil operasi 'x+=y' adalah  19.0\n",
            "\n",
            " Hasil operasi 'x-=y' adalah  15.0\n",
            "\n",
            " Hasil operasi 'x*=y' adalah  60.0\n",
            "\n",
            " Hasil operasi 'x/=y' adalah  15.0\n",
            "\n",
            " Hasil operasi 'x%=y' adalah  3.0\n",
            "\n",
            " Hasil operasi 'x**=y' adalah  81.0\n"
          ]
        }
      ]
    },
    {
      "cell_type": "code",
      "source": [
        "x = 7>5\n",
        "print(x)\n",
        "#Perintah ini untuk menentukan benar atau salah operasi yang kita buat."
      ],
      "metadata": {
        "colab": {
          "base_uri": "https://localhost:8080/"
        },
        "id": "5qgVjxZ4ui-l",
        "outputId": "38f66297-fb71-468b-ca8d-668e38c7d960"
      },
      "execution_count": 33,
      "outputs": [
        {
          "output_type": "stream",
          "name": "stdout",
          "text": [
            "True\n"
          ]
        }
      ]
    },
    {
      "cell_type": "code",
      "source": [
        "x = 18<9\n",
        "print(x)\n",
        "#Sama dengan perintah diatas, yang dimana untuk menentukan benar atau salah operasi yang dibuat."
      ],
      "metadata": {
        "colab": {
          "base_uri": "https://localhost:8080/"
        },
        "id": "_1aVHteEvIuO",
        "outputId": "156cc7bd-0dcf-4c8e-aa0c-f1d7b3db5c39"
      },
      "execution_count": 37,
      "outputs": [
        {
          "output_type": "stream",
          "name": "stdout",
          "text": [
            "False\n"
          ]
        }
      ]
    },
    {
      "cell_type": "code",
      "source": [
        "xx = 3 > 10\n",
        "print (xx)\n",
        "yy = 3 < 10\n",
        "print (yy)"
      ],
      "metadata": {
        "colab": {
          "base_uri": "https://localhost:8080/"
        },
        "id": "PAmmyPWJ5POa",
        "outputId": "b07d0d73-1f07-438e-fd2e-512622e8e576"
      },
      "execution_count": 5,
      "outputs": [
        {
          "output_type": "stream",
          "name": "stdout",
          "text": [
            "False\n",
            "True\n"
          ]
        }
      ]
    },
    {
      "cell_type": "code",
      "source": [
        "berat_doni = 58\n",
        "berat_adi = 71\n",
        "print (berat_doni > 60 and berat_adi < 80)\n",
        "print (berat_doni < 60 and berat_adi > 65)\n",
        "print (berat_doni > 60 or berat_adi < 80)\n",
        "print (berat_doni > 60 or berat_adi < 65)\n",
        "#Kode ini merupakan operator logika yang ada di python.\n",
        "#Pada operasi and output akan benar jika kedua variabel bernilai benar. Jika salah satu bernilai salah, maka output akan salah.\n",
        "#Pada operasi or output akan salah jika kedua variabel bernilai salah. Jika salah satu bernilai salah, maka output tetap benar."
      ],
      "metadata": {
        "colab": {
          "base_uri": "https://localhost:8080/"
        },
        "id": "kO306GrJ5JGy",
        "outputId": "1eddb2b4-5bcb-4f54-ec03-fae2e4646e6e"
      },
      "execution_count": 10,
      "outputs": [
        {
          "output_type": "stream",
          "name": "stdout",
          "text": [
            "False\n",
            "True\n",
            "True\n",
            "False\n"
          ]
        }
      ]
    },
    {
      "cell_type": "code",
      "source": [
        "x = float(input('Nilai x '))\n",
        "if x < 15:\n",
        "    y = x**3\n",
        "    print ('Nilai y =' + str(y))\n",
        "#Print digunakan untuk mengeluarkan output data string yang digunakan dalam kode."
      ],
      "metadata": {
        "colab": {
          "base_uri": "https://localhost:8080/"
        },
        "id": "6O-zZeqN6Sql",
        "outputId": "c6ee1e23-7851-4e01-8447-4d0a6af2e90b"
      },
      "execution_count": 10,
      "outputs": [
        {
          "output_type": "stream",
          "name": "stdout",
          "text": [
            "Nilai x 4\n",
            "Nilai y =64.0\n"
          ]
        }
      ]
    }
  ]
}