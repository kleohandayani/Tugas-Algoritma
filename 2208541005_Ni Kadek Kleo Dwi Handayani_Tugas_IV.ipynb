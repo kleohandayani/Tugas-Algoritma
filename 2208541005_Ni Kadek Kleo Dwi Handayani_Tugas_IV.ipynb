{
  "cells": [
    {
      "cell_type": "markdown",
      "source": [
        "# **5.11 *While Loop***"
      ],
      "metadata": {
        "id": "oLrY65kehALX"
      }
    },
    {
      "cell_type": "code",
      "execution_count": null,
      "metadata": {
        "colab": {
          "base_uri": "https://localhost:8080/"
        },
        "id": "eQSEDPWShytI",
        "outputId": "69c40bcb-a19e-4195-fba3-0b61f6acc3fb"
      },
      "outputs": [
        {
          "name": "stdout",
          "output_type": "stream",
          "text": [
            "\n",
            "*\n",
            "**\n",
            "***\n",
            "****\n",
            "*****\n"
          ]
        }
      ],
      "source": [
        "a = 0\n",
        "while a < 5 + 1 :\n",
        "  print (a * '*')\n",
        "  a += 1\n",
        "  \n",
        "#Membuat segitiga bintang dari while loop dengan cara yang simple. \n",
        "#Pada while a kurang dari 5 itu saya tambahkan satu karena saya ingin baris dari segitga itu berjumlah lima."
      ]
    },
    {
      "cell_type": "code",
      "execution_count": null,
      "metadata": {
        "colab": {
          "base_uri": "https://localhost:8080/"
        },
        "id": "BPT6hrflr2F_",
        "outputId": "8765b98e-8056-4cff-a8a9-9085625d9979"
      },
      "outputs": [
        {
          "name": "stdout",
          "output_type": "stream",
          "text": [
            "Angka 0 masih dibawah 10\n",
            "Angka 1 masih dibawah 10\n",
            "Angka 2 masih dibawah 10\n",
            "Angka 3 masih dibawah 10\n",
            "Angka 4 masih dibawah 10\n",
            "Angka 5 masih dibawah 10\n",
            "Angka 6 masih dibawah 10\n",
            "Angka 7 masih dibawah 10\n",
            "Angka 8 masih dibawah 10\n",
            "Angka 9 masih dibawah 10\n"
          ]
        }
      ],
      "source": [
        "a = 0\n",
        "while a < 10 :\n",
        "  print ('Angka ' + str(a) + ' masih dibawah 10')\n",
        "  a += 1\n",
        "\n",
        "#Pada program while loop akan selalu bekerja jika hasilnya adalah true.\n",
        "#Namun jika hasilnya adalah false, maka program akan berhenti berjalan."
      ]
    },
    {
      "cell_type": "markdown",
      "source": [
        "# **5.12 *List* di Python**"
      ],
      "metadata": {
        "id": "8zYKHOKxhWJw"
      }
    },
    {
      "cell_type": "code",
      "execution_count": null,
      "metadata": {
        "colab": {
          "base_uri": "https://localhost:8080/"
        },
        "id": "b3UEVHeX0_3M",
        "outputId": "786cf114-8d50-461a-ae25-542ac4c4f52b"
      },
      "outputs": [
        {
          "name": "stdout",
          "output_type": "stream",
          "text": [
            "['kucing', 'singa', 'zebra']\n"
          ]
        }
      ],
      "source": [
        "hewan = ['kucing', 'singa', 'zebra']\n",
        "print(hewan)\n",
        "\n",
        "#Pada kode ini list digunakan untuk mencetak urutan yang sudah kita buat."
      ]
    },
    {
      "cell_type": "code",
      "execution_count": null,
      "metadata": {
        "colab": {
          "base_uri": "https://localhost:8080/"
        },
        "id": "2E_BR24o11mc",
        "outputId": "7b9ab366-7538-4aed-ce38-2aa7a9cb3098"
      },
      "outputs": [
        {
          "name": "stdout",
          "output_type": "stream",
          "text": [
            "kucing\n"
          ]
        }
      ],
      "source": [
        "print(hewan[0])\n",
        "\n",
        "#Seperti string index, saat mencetak urutan ke-0 maka output yang dikeluarkan adalah kata yang pertama."
      ]
    },
    {
      "cell_type": "code",
      "execution_count": null,
      "metadata": {
        "colab": {
          "base_uri": "https://localhost:8080/"
        },
        "id": "0PKVm4Ml149H",
        "outputId": "30e21425-629a-40fd-b163-6fffaa73a9e0"
      },
      "outputs": [
        {
          "name": "stdout",
          "output_type": "stream",
          "text": [
            "zebra\n"
          ]
        }
      ],
      "source": [
        "print(hewan[-1])\n",
        "\n",
        "#Jika mencetak urutan -1 maka output yang dikeluarkan adalah kata terakhir."
      ]
    },
    {
      "cell_type": "code",
      "execution_count": null,
      "metadata": {
        "colab": {
          "base_uri": "https://localhost:8080/"
        },
        "id": "FZ3uyGET1_v_",
        "outputId": "47af8f36-d3c7-4420-8c94-4ede6a90eae0"
      },
      "outputs": [
        {
          "name": "stdout",
          "output_type": "stream",
          "text": [
            "singa\n"
          ]
        }
      ],
      "source": [
        "print(hewan[-2])\n",
        "\n",
        "#Jika mencetak urutan -2 maka output yang dikeluarkan adalah kata kedua yang dihitung dari belakang."
      ]
    },
    {
      "cell_type": "code",
      "execution_count": null,
      "metadata": {
        "colab": {
          "base_uri": "https://localhost:8080/"
        },
        "id": "o1vGwjKW2Gts",
        "outputId": "754809a3-9f64-4424-f3a9-c544ecf69279"
      },
      "outputs": [
        {
          "name": "stdout",
          "output_type": "stream",
          "text": [
            "['kucing', 'singa', 'tikus']\n"
          ]
        }
      ],
      "source": [
        "hewan[2] = 'tikus'\n",
        "print(hewan)\n",
        "\n",
        "#Perintah ini seperti perintah replace yang dimana dapat mengganti kata yang kita inginkan."
      ]
    },
    {
      "cell_type": "code",
      "execution_count": null,
      "metadata": {
        "colab": {
          "base_uri": "https://localhost:8080/"
        },
        "id": "fJknpdQF34rf",
        "outputId": "d7d96828-baeb-428e-8011-11b90ee1fbfa"
      },
      "outputs": [
        {
          "name": "stdout",
          "output_type": "stream",
          "text": [
            "['kucing', 'singa', 'tikus']\n"
          ]
        }
      ],
      "source": [
        "print(hewan[0:3])\n",
        "\n",
        "#Perintah ini mencetak kata dari urutan ke-0 sampai ke-3, namun urutan ketiga tidak dihitung dalam python."
      ]
    },
    {
      "cell_type": "code",
      "execution_count": null,
      "metadata": {
        "colab": {
          "base_uri": "https://localhost:8080/"
        },
        "id": "xbnL5f_N3tb8",
        "outputId": "df076ba4-2263-4068-8223-02ebb275d7d9"
      },
      "outputs": [
        {
          "name": "stdout",
          "output_type": "stream",
          "text": [
            "['kucing', 'singa', 'tikus']\n"
          ]
        }
      ],
      "source": [
        "print(hewan)\n",
        "\n",
        "#Karena kata sudah diganti maka saat mencetak kata-kata yang keluar adalah sesuai dengan yang sudah diganti."
      ]
    },
    {
      "cell_type": "markdown",
      "source": [
        "# **5.13 Metoda *List***"
      ],
      "metadata": {
        "id": "lDrKBFzVhqIe"
      }
    },
    {
      "cell_type": "code",
      "execution_count": 8,
      "metadata": {
        "colab": {
          "base_uri": "https://localhost:8080/"
        },
        "id": "DwPg0JHm9hso",
        "outputId": "7af09181-56b6-4cc6-9d80-943a098ea804"
      },
      "outputs": [
        {
          "output_type": "stream",
          "name": "stdout",
          "text": [
            "['Probabilitas', 'Kalkulus', 'Algoritma', 'Agama', 'Statistika']\n"
          ]
        }
      ],
      "source": [
        "Matkul = ['Probabilitas', 'Kalkulus', 'Algoritma', 'Agama']\n",
        "Matkul.append('Statistika')\n",
        "print(Matkul)\n",
        "\n",
        "#Metoda list pada kode ini dapat menambahkan isi sesuai dengan yang kita inginkan, dengan menggunakan perintah append."
      ]
    },
    {
      "cell_type": "code",
      "source": [
        "Matkul.insert(1, 'Aljabar')\n",
        "print(Matkul)\n",
        "\n",
        "#Perintah insert sedikit mirip dengan perintah append, yang dimana fungsinya adalah menambahkan objek baru.\n",
        "#Namun untuk insert ini dapat menggunakan angka untuk menambahkan kata pada urutan yang kita inginkan."
      ],
      "metadata": {
        "colab": {
          "base_uri": "https://localhost:8080/"
        },
        "id": "drlqy1FlgZW-",
        "outputId": "13a189b5-1215-48ef-eb6e-7628ff9483b0"
      },
      "execution_count": 9,
      "outputs": [
        {
          "output_type": "stream",
          "name": "stdout",
          "text": [
            "['Probabilitas', 'Aljabar', 'Kalkulus', 'Algoritma', 'Agama', 'Statistika']\n"
          ]
        }
      ]
    },
    {
      "cell_type": "code",
      "execution_count": null,
      "metadata": {
        "colab": {
          "base_uri": "https://localhost:8080/"
        },
        "id": "CZ2GX1HT-Ump",
        "outputId": "80ae0823-dd5e-4074-ca10-5f34df7e7787"
      },
      "outputs": [
        {
          "name": "stdout",
          "output_type": "stream",
          "text": [
            "['Aljabar', 'Kalkulus', 'Algoritma', 'Agama', 'Statistika']\n"
          ]
        }
      ],
      "source": [
        "Matkul.remove('Probabilitas')\n",
        "print(Matkul)\n",
        "\n",
        "#Perintah remove digunakan untuk menghapus kata yang kita inginkan."
      ]
    },
    {
      "cell_type": "code",
      "execution_count": null,
      "metadata": {
        "colab": {
          "base_uri": "https://localhost:8080/"
        },
        "id": "XERB0xQL-dd6",
        "outputId": "c4082582-48d8-4981-f7f0-bb5b5ef5273a"
      },
      "outputs": [
        {
          "name": "stdout",
          "output_type": "stream",
          "text": [
            "False\n"
          ]
        }
      ],
      "source": [
        "print('Probabilitas' in Matkul)\n",
        "\n",
        "#Perintah ini dilakukan untuk mengecek apakah kata tersebut terdapat pada list."
      ]
    },
    {
      "cell_type": "code",
      "execution_count": null,
      "metadata": {
        "colab": {
          "base_uri": "https://localhost:8080/"
        },
        "id": "5h_Dpsye-mxt",
        "outputId": "788da4a3-8be9-499f-8ed5-562b07ac4496"
      },
      "outputs": [
        {
          "name": "stdout",
          "output_type": "stream",
          "text": [
            "True\n"
          ]
        }
      ],
      "source": [
        "print('Kalkulus' in Matkul)\n",
        "\n",
        "#Perintah ini dilakukan untuk mengecek apakah kata tersebut terdapat pada list."
      ]
    },
    {
      "cell_type": "code",
      "execution_count": null,
      "metadata": {
        "colab": {
          "base_uri": "https://localhost:8080/"
        },
        "id": "hpPstxG6-tD7",
        "outputId": "dcd24e94-0765-4502-dd7c-1701d2ae4490"
      },
      "outputs": [
        {
          "name": "stdout",
          "output_type": "stream",
          "text": [
            "5\n"
          ]
        }
      ],
      "source": [
        "print(len(Matkul))\n",
        "\n",
        "#Fungsi perintah ini adalah untuk menghitung semua objek yang ada pada list terakhir."
      ]
    },
    {
      "cell_type": "markdown",
      "source": [
        "# **5.14 *For Loop***"
      ],
      "metadata": {
        "id": "roXtCd74hzEd"
      }
    },
    {
      "cell_type": "code",
      "execution_count": null,
      "metadata": {
        "colab": {
          "base_uri": "https://localhost:8080/"
        },
        "id": "gfU-vtoS-0hz",
        "outputId": "26c64895-0a00-47b1-83c7-c1ac8b4113e7"
      },
      "outputs": [
        {
          "name": "stdout",
          "output_type": "stream",
          "text": [
            "oreo\n",
            "bengbeng\n",
            "malkist\n",
            "chocolatos\n"
          ]
        }
      ],
      "source": [
        "snack = ['oreo', 'bengbeng', 'malkist', 'chocolatos']\n",
        "for jenis in snack:\n",
        "  print(jenis)\n",
        "\n",
        "#Perintah ini digunakan untuk mencetak semua objek yang ada pada list"
      ]
    },
    {
      "cell_type": "code",
      "execution_count": null,
      "metadata": {
        "colab": {
          "base_uri": "https://localhost:8080/"
        },
        "id": "7eTHJecD_MPH",
        "outputId": "88b241a1-5ad8-4acb-9f47-5828f3f6a5a1"
      },
      "outputs": [
        {
          "name": "stdout",
          "output_type": "stream",
          "text": [
            "oreo\n",
            "bengbeng\n",
            "malkist\n",
            "chocolatos\n"
          ]
        }
      ],
      "source": [
        "i = 0\n",
        "while i < len(snack):\n",
        "  print(snack[i])\n",
        "  i += 1\n",
        "\n",
        "#Perulangan while digunakan ketika jumlah perulangannya belum ditentukan."
      ]
    },
    {
      "cell_type": "code",
      "execution_count": null,
      "metadata": {
        "colab": {
          "base_uri": "https://localhost:8080/"
        },
        "id": "QDEx-O-3_Ze6",
        "outputId": "26ec3525-228d-464c-edef-82346acc7bb5"
      },
      "outputs": [
        {
          "name": "stdout",
          "output_type": "stream",
          "text": [
            "oreo\n",
            "malkist\n"
          ]
        }
      ],
      "source": [
        "i = 0\n",
        "while i < len(snack):\n",
        "  print(snack[i])\n",
        "  i+=2\n",
        "\n",
        "#Pada kode ini outputnya hanya dua yang keluar, hal ini dikarenakan i menjadi syarat mencetak perulangan ini.\n",
        "#Karena i+=2 maka akan dicetak objek pertama lalu objek selanjutnya yang berkelipatan dua."
      ]
    },
    {
      "cell_type": "code",
      "execution_count": null,
      "metadata": {
        "colab": {
          "base_uri": "https://localhost:8080/"
        },
        "id": "gdb6Oh1b_t5s",
        "outputId": "887fe4fd-42a0-41a1-db93-cbd516224a41"
      },
      "outputs": [
        {
          "name": "stdout",
          "output_type": "stream",
          "text": [
            "bengbeng\n",
            "malkist\n",
            "chocolatos\n"
          ]
        }
      ],
      "source": [
        "i = 1\n",
        "while i < len(snack):\n",
        "  print(snack[i])\n",
        "  i += 1\n",
        "\n",
        "#Dapat dilihat pada kode ini saya menuliskan i = 1 \n",
        "#yang dimana objek yang muncul akan dimulai dari urutan ke-1 bukan ke-0."
      ]
    },
    {
      "cell_type": "markdown",
      "source": [
        "# **5.15 Fungsi *Range***"
      ],
      "metadata": {
        "id": "qQCiIj4jiGDe"
      }
    },
    {
      "cell_type": "code",
      "execution_count": null,
      "metadata": {
        "colab": {
          "base_uri": "https://localhost:8080/"
        },
        "id": "oNOpomx-31Ha",
        "outputId": "6dbc3a8e-41f8-4633-9606-c529f4f2513e"
      },
      "outputs": [
        {
          "name": "stdout",
          "output_type": "stream",
          "text": [
            "0\n",
            "1\n",
            "4\n",
            "9\n",
            "16\n"
          ]
        }
      ],
      "source": [
        "for i in [0,1,2,3,4]:\n",
        "  y=i**2\n",
        "  print(y)\n",
        "\n",
        "#Perintah ini berguna untuk mengeluarkan output bilangan berurutan atau berpola.\n",
        "#Sesuai dengan operasi yang kita buat."
      ]
    },
    {
      "cell_type": "code",
      "execution_count": null,
      "metadata": {
        "colab": {
          "base_uri": "https://localhost:8080/"
        },
        "id": "IY-JkDik9M3F",
        "outputId": "a6c6377f-9f2e-439a-b65c-7cef13823931"
      },
      "outputs": [
        {
          "name": "stdout",
          "output_type": "stream",
          "text": [
            "0\n",
            "1\n",
            "4\n",
            "9\n"
          ]
        }
      ],
      "source": [
        "i = 0\n",
        "while i < 4:\n",
        "  y=i**2\n",
        "  print(str(y))\n",
        "  i += 1\n",
        "\n",
        "#Sama halnya dengan kode sebelumnya yang menggunakan bantuan for loop untuk membuat bilangan berpola.\n",
        "#Namun pada kode ini digunakan string untuk membaca variabel yang dibuat."
      ]
    },
    {
      "cell_type": "code",
      "source": [
        "a = 5\n",
        "for i in range (1, a+1):\n",
        "  print ((a-i) * \" \" + (2*i-1) * \"*\" )\n",
        "\n",
        "#Program ini dibuat karena saya menonton youtube tentang python.\n",
        "#Untuk membuat output seperti ini, saya menggunakan bantuan excel untuk menghitung \n",
        "#spasi dan membuat tingkatannya agar membentuk pola segitiga."
      ],
      "metadata": {
        "colab": {
          "base_uri": "https://localhost:8080/"
        },
        "id": "cb24oXtGjZtp",
        "outputId": "774d0411-86e5-447d-df6e-e20c071b45fe"
      },
      "execution_count": null,
      "outputs": [
        {
          "output_type": "stream",
          "name": "stdout",
          "text": [
            "    *\n",
            "   ***\n",
            "  *****\n",
            " *******\n",
            "*********\n"
          ]
        }
      ]
    },
    {
      "cell_type": "code",
      "source": [],
      "metadata": {
        "id": "SljVmw9zkB9Z"
      },
      "execution_count": null,
      "outputs": []
    }
  ],
  "metadata": {
    "colab": {
      "provenance": []
    },
    "kernelspec": {
      "display_name": "Python 3",
      "name": "python3"
    },
    "language_info": {
      "name": "python"
    }
  },
  "nbformat": 4,
  "nbformat_minor": 0
}