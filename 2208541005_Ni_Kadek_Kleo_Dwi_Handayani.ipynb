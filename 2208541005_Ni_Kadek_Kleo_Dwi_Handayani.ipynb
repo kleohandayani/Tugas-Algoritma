{
  "cells": [
    {
      "cell_type": "code",
      "execution_count": 1,
      "metadata": {
        "colab": {
          "base_uri": "https://localhost:8080/"
        },
        "id": "gJr_9dXGpJ05",
        "outputId": "6ead643d-5c69-4fe9-890f-bfdca88bd921"
      },
      "outputs": [
        {
          "data": {
            "text/plain": [
              "86400"
            ]
          },
          "execution_count": 1,
          "metadata": {},
          "output_type": "execute_result"
        }
      ],
      "source": [
        "seconds_in_a_day = 24 * 60 * 60\n",
        "seconds_in_a_day"
      ]
    },
    {
      "cell_type": "markdown",
      "metadata": {},
      "source": [
        "Disini saya mencoba membuat sebuah kode pendek yang dapat menghitung suatu nilai, \n",
        "yaitu menghitung detik dalam satu hari."
      ]
    },
    {
      "cell_type": "code",
      "execution_count": 2,
      "metadata": {
        "colab": {
          "base_uri": "https://localhost:8080/"
        },
        "id": "KIiX7fi8hWDH",
        "outputId": "150eaf2f-4074-4150-f227-ea3286292b19"
      },
      "outputs": [
        {
          "data": {
            "text/plain": [
              "1440"
            ]
          },
          "execution_count": 2,
          "metadata": {},
          "output_type": "execute_result"
        }
      ],
      "source": [
        "minutes_in_a_day = 24 * 60\n",
        "minutes_in_a_day"
      ]
    },
    {
      "cell_type": "markdown",
      "metadata": {},
      "source": [
        "Sama dengan nomer 1, yaitu menghitung menit dalam satu hari dengan kode yang pendek. Kode ini sangat simple karena hanya menggunakan operasi perkalian."
      ]
    },
    {
      "cell_type": "code",
      "execution_count": 3,
      "metadata": {
        "colab": {
          "base_uri": "https://localhost:8080/"
        },
        "id": "AvqUfHm1hvZB",
        "outputId": "a1ae32b6-592d-44ac-86c6-64de36415d1c"
      },
      "outputs": [
        {
          "data": {
            "text/plain": [
              "10080"
            ]
          },
          "execution_count": 3,
          "metadata": {},
          "output_type": "execute_result"
        }
      ],
      "source": [
        "minutes_in_a_week = 7 * minutes_in_a_day\n",
        "minutes_in_a_week"
      ]
    },
    {
      "cell_type": "markdown",
      "metadata": {},
      "source": [
        "Saya mmebuat kode ini karena ingin melanjutkan nomer 2 yang dimana menghitung menit dalam satu minggu. \n",
        "Pada operasi perkalian saya langsung menggunakan kode minutes_in_a_day yang sudah tersimpan dalam program sebelumnya. Hasilnya pun tepat."
      ]
    },
    {
      "cell_type": "code",
      "execution_count": 4,
      "metadata": {
        "colab": {
          "base_uri": "https://localhost:8080/"
        },
        "id": "x18-tekGjVtD",
        "outputId": "97de00c3-06aa-493a-ef9c-018823fde7cc"
      },
      "outputs": [
        {
          "data": {
            "text/plain": [
              "43200"
            ]
          },
          "execution_count": 4,
          "metadata": {},
          "output_type": "execute_result"
        }
      ],
      "source": [
        "minutes_in_a_month = 30 * minutes_in_a_day\n",
        "minutes_in_a_month"
      ]
    },
    {
      "cell_type": "code",
      "execution_count": 5,
      "metadata": {
        "colab": {
          "base_uri": "https://localhost:8080/"
        },
        "id": "YnhZcb4wjkMQ",
        "outputId": "a50cc710-3828-4438-df90-61f7aa886968"
      },
      "outputs": [
        {
          "data": {
            "text/plain": [
              "518400"
            ]
          },
          "execution_count": 5,
          "metadata": {},
          "output_type": "execute_result"
        }
      ],
      "source": [
        "minutes_in_a_year = 12 * minutes_in_a_month\n",
        "minutes_in_a_year"
      ]
    },
    {
      "cell_type": "code",
      "execution_count": 6,
      "metadata": {
        "colab": {
          "base_uri": "https://localhost:8080/"
        },
        "id": "NkQe1lPjgw-E",
        "outputId": "347bdd85-01f3-4a1b-88dc-51ce7f287c4f"
      },
      "outputs": [
        {
          "name": "stdout",
          "output_type": "stream",
          "text": [
            "Hello world\n"
          ]
        }
      ],
      "source": [
        "print (\"Hello world\")"
      ]
    },
    {
      "cell_type": "markdown",
      "metadata": {},
      "source": [
        "Mencoba kode yang sangat simple dari phyton, yaitu menulis Hello world dengan perintah print."
      ]
    },
    {
      "cell_type": "code",
      "execution_count": 7,
      "metadata": {
        "colab": {
          "base_uri": "https://localhost:8080/"
        },
        "id": "1A5Cw8qdldNw",
        "outputId": "30425203-069a-4745-baa1-2ba6a2916f98"
      },
      "outputs": [
        {
          "name": "stdout",
          "output_type": "stream",
          "text": [
            "Kleo Matematika A 2208541005\n"
          ]
        }
      ],
      "source": [
        "Nama = \"Kleo\"\n",
        "Kelas = \"Matematika A\"\n",
        "NIM = \"2208541005\"\n",
        "print (Nama+\" \"+Kelas+\" \"+NIM)"
      ]
    },
    {
      "cell_type": "markdown",
      "metadata": {},
      "source": [
        "Menggunakan perintah print adalah hal yang simple. Print digunakan untuk memunculkan output yang akan kita print/cetak pada console."
      ]
    },
    {
      "cell_type": "code",
      "execution_count": 8,
      "metadata": {
        "colab": {
          "base_uri": "https://localhost:8080/"
        },
        "id": "AuyhvmAgmgSI",
        "outputId": "a3c99ac4-e891-4ace-92b4-ddc6f98b7821"
      },
      "outputs": [
        {
          "name": "stdout",
          "output_type": "stream",
          "text": [
            "Selamat pagi Kleo\n"
          ]
        }
      ],
      "source": [
        "Nama = input(\"Input nama anda:\")\n",
        "print(\"Selamat pagi\" + \" \" + Nama)"
      ]
    },
    {
      "cell_type": "markdown",
      "metadata": {},
      "source": [
        "Disini menggunakan print lagi dan menambahkan input yang digunakan untuk mengambil data. Pada kode ini input akan bekerja saat kita run kode dengan memasukkan data sesuai perintah yang sudah kita buat."
      ]
    },
    {
      "cell_type": "code",
      "execution_count": 9,
      "metadata": {
        "colab": {
          "base_uri": "https://localhost:8080/"
        },
        "id": "AKj068a7pA4I",
        "outputId": "6435c5cd-5294-4504-a931-0474ee0abb5b"
      },
      "outputs": [
        {
          "name": "stdout",
          "output_type": "stream",
          "text": [
            "2.0\n",
            "2.5\n"
          ]
        }
      ],
      "source": [
        "print (10/5)\n",
        "print (10/4)"
      ]
    },
    {
      "cell_type": "markdown",
      "metadata": {},
      "source": [
        "Pada kode ini menggunakan print untuk menampilkan output dari operasi pembagian yang dibuat. "
      ]
    },
    {
      "cell_type": "code",
      "execution_count": 10,
      "metadata": {
        "colab": {
          "base_uri": "https://localhost:8080/"
        },
        "id": "GCOtRtdKqJSd",
        "outputId": "81a14044-c3b0-4f55-e43d-3c3a2ffffa5f"
      },
      "outputs": [
        {
          "name": "stdout",
          "output_type": "stream",
          "text": [
            "3\n",
            "2\n"
          ]
        }
      ],
      "source": [
        "print (10//3)\n",
        "print (9//4)"
      ]
    },
    {
      "cell_type": "markdown",
      "metadata": {},
      "source": [
        "Disini masih menggunakan operasi pembagian, pembedanya adalah menggunakan garis miring 2 yang artinya membagi tanpa muncul sisa."
      ]
    },
    {
      "cell_type": "code",
      "execution_count": 11,
      "metadata": {
        "colab": {
          "base_uri": "https://localhost:8080/"
        },
        "id": "_qkyJjzZqYIt",
        "outputId": "e9704297-fcf6-4cc3-e050-626bb72a1a05"
      },
      "outputs": [
        {
          "name": "stdout",
          "output_type": "stream",
          "text": [
            "71.0\n",
            "42.8\n"
          ]
        }
      ],
      "source": [
        "print (213/3)\n",
        "print (214/5)"
      ]
    },
    {
      "cell_type": "code",
      "execution_count": 12,
      "metadata": {
        "colab": {
          "base_uri": "https://localhost:8080/"
        },
        "id": "tu4MCD5uqmUt",
        "outputId": "968b5290-de70-4a50-9e13-f53b05ee4689"
      },
      "outputs": [
        {
          "name": "stdout",
          "output_type": "stream",
          "text": [
            "21329.333333333332\n",
            "38264\n"
          ]
        }
      ],
      "source": [
        "print (63988/3)\n",
        "print (76528//2)"
      ]
    },
    {
      "cell_type": "markdown",
      "metadata": {},
      "source": [
        "Dapat dilihat jika kita menggunakan satu garis miring, maka sisa akan muncul pada operasi pembagian ini. Namun, jika menggunakan 2 garis miring maka sisa tidak akan muncul."
      ]
    },
    {
      "cell_type": "code",
      "execution_count": 13,
      "metadata": {
        "colab": {
          "base_uri": "https://localhost:8080/"
        },
        "id": "5ZpDwDGYsBn_",
        "outputId": "975c8151-77c5-4e38-8a36-f3fa18da80d3"
      },
      "outputs": [
        {
          "name": "stdout",
          "output_type": "stream",
          "text": [
            "Height in meters = 46.6\n"
          ]
        }
      ],
      "source": [
        "shirt_height_cm = 45\n",
        "my_height_cm = 160\n",
        "#How tall am I in meters when wearing my shirt?\n",
        "total_height_meters = shirt_height_cm + my_height_cm / 100\n",
        "print (\"Height in meters =\" , total_height_meters)"
      ]
    },
    {
      "cell_type": "markdown",
      "metadata": {},
      "source": [
        "Saya mencoba kode ini karena melihat contoh dari kaggle. Disini saya mencoba menghitung tinggi dalam meter. Saya merasa aneh dengan operasi ini karena jika dihitung secara manual itu hasilnya berbeda, jadi saya masih ragu dengan operasi kode ini."
      ]
    },
    {
      "cell_type": "code",
      "execution_count": 18,
      "metadata": {
        "colab": {
          "base_uri": "https://localhost:8080/"
        },
        "id": "gXYriewftluv",
        "outputId": "d10fe84f-e795-4c75-d4f8-2a8d5cf16187"
      },
      "outputs": [
        {
          "name": "stdout",
          "output_type": "stream",
          "text": [
            "Total siswa adalah 57\n"
          ]
        }
      ],
      "source": [
        "kelas_1 = int(input('Jumlah siswa kelas 1 adalah '))\n",
        "kelas_2 = int(input('Jumlah siswa kelas 1 adalah '))\n",
        "print('Total siswa adalah ' + str(kelas_1 + kelas_2))"
      ]
    },
    {
      "cell_type": "markdown",
      "metadata": {},
      "source": [
        "Pada kode ini digunakan int (integer) yang dimana kita akan memasukkan bilangan bulat pada saat run nanti. Disini juga menggunakan str (string) yang dimana merupakan fungsi variabel. Saya menggunakan str karena kelas_1 dan kelas_2 merupakan variabel.\n",
        "Jika tidak menggunakan str bisa saja program tidak bisa dijalankan karena variabel tidak terbaca."
      ]
    },
    {
      "cell_type": "code",
      "execution_count": 21,
      "metadata": {},
      "outputs": [
        {
          "ename": "TypeError",
          "evalue": "can only concatenate str (not \"int\") to str",
          "output_type": "error",
          "traceback": [
            "\u001b[0;31m---------------------------------------------------------------------------\u001b[0m",
            "\u001b[0;31mTypeError\u001b[0m                                 Traceback (most recent call last)",
            "Cell \u001b[0;32mIn[21], line 4\u001b[0m\n\u001b[1;32m      2\u001b[0m lebar \u001b[39m=\u001b[39m \u001b[39mint\u001b[39m (\u001b[39minput\u001b[39m (\u001b[39m'\u001b[39m\u001b[39mlebar persegi panjang\u001b[39m\u001b[39m'\u001b[39m))\n\u001b[1;32m      3\u001b[0m \u001b[39m#Luas persegi panjang\u001b[39;00m\n\u001b[0;32m----> 4\u001b[0m \u001b[39mprint\u001b[39m (\u001b[39m'\u001b[39;49m\u001b[39mLuas persegi panjang adalah = \u001b[39;49m\u001b[39m'\u001b[39;49m \u001b[39m+\u001b[39;49m \u001b[39mint\u001b[39;49m(panjang\u001b[39m*\u001b[39;49mlebar))\n",
            "\u001b[0;31mTypeError\u001b[0m: can only concatenate str (not \"int\") to str"
          ]
        }
      ],
      "source": [
        "panjang = int (input ('panjang persegi panjang'))\n",
        "lebar = int (input ('lebar persegi panjang'))\n",
        "#Luas persegi panjang\n",
        "print ('Luas persegi panjang adalah = ' + int(panjang*lebar))"
      ]
    },
    {
      "cell_type": "markdown",
      "metadata": {},
      "source": [
        "Program ini sama dengan yang sebelumnya dimana saya menggunakan int untuk menghitung operasi perkalian yang mencari luas persegi panjang. Namun terjadi error karena saya tidak menggunakan str. Fungsi str sendiri adalah mengembalikan representasi nilai yang terbaca. Jadi sepengetahuan saya, str harus digunakan dalam program ini untuk membaca int agar operasi bisa dijalankan."
      ]
    }
  ],
  "metadata": {
    "colab": {
      "provenance": [],
      "toc_visible": true
    },
    "kernelspec": {
      "display_name": "Python 3.9.6 64-bit",
      "language": "python",
      "name": "python3"
    },
    "language_info": {
      "codemirror_mode": {
        "name": "ipython",
        "version": 3
      },
      "file_extension": ".py",
      "mimetype": "text/x-python",
      "name": "python",
      "nbconvert_exporter": "python",
      "pygments_lexer": "ipython3",
      "version": "3.9.6"
    },
    "vscode": {
      "interpreter": {
        "hash": "31f2aee4e71d21fbe5cf8b01ff0e069b9275f58929596ceb00d14d90e3e16cd6"
      }
    }
  },
  "nbformat": 4,
  "nbformat_minor": 0
}
